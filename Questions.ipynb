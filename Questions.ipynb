{
 "cells": [
  {
   "cell_type": "code",
   "execution_count": 2,
   "id": "e0deb3ae",
   "metadata": {},
   "outputs": [
    {
     "name": "stdout",
     "output_type": "stream",
     "text": [
      "3,1,2,4,5,6,7,8\n",
      "4581\n"
     ]
    }
   ],
   "source": [
    "# Q1.\n",
    "\n",
    "lst=list(map(int,input().split(\",\")))\n",
    "num1=sum(lst[:lst.index(4)])+sum(lst[lst.index(7)+1:])\n",
    "\n",
    "l=lst[lst.index(4):lst.index(7)+1]\n",
    "num2=\"\"\n",
    "for i in l:\n",
    "    num2+=str(i)\n",
    "    \n",
    "print(num1+int(num2))    \n",
    "    \n"
   ]
  },
  {
   "cell_type": "code",
   "execution_count": 3,
   "id": "63159584",
   "metadata": {},
   "outputs": [
    {
     "name": "stdout",
     "output_type": "stream",
     "text": [
      "google\n",
      "elog\n"
     ]
    }
   ],
   "source": [
    "# Q2. Program to reverse string after removing duplicates:\n",
    "\n",
    "string=input()\n",
    "\n",
    "s=list(dict.fromkeys(string))\n",
    "s.reverse()\n",
    "print(\"\".join(s))"
   ]
  },
  {
   "cell_type": "code",
   "execution_count": 4,
   "id": "49155e0f",
   "metadata": {},
   "outputs": [
    {
     "name": "stdout",
     "output_type": "stream",
     "text": [
      "elog\n"
     ]
    }
   ],
   "source": [
    "from ordered_set import OrderedSet\n",
    "def reverse_string_without_duplicates(string):\n",
    "    string = string.lower()\n",
    "    string = \"\".join(OrderedSet(string))\n",
    "    string = string[::-1]\n",
    "    return string\n",
    "\n",
    "print(reverse_string_without_duplicates(\"google\"))\n"
   ]
  },
  {
   "cell_type": "code",
   "execution_count": 5,
   "id": "15c9da4c",
   "metadata": {},
   "outputs": [
    {
     "name": "stdout",
     "output_type": "stream",
     "text": [
      "google\n",
      "elog\n"
     ]
    }
   ],
   "source": [
    "str=input()\n",
    "\n",
    "out=\"\"\n",
    "\n",
    "for ch in str:\n",
    "    \n",
    "    if ch not in out:\n",
    "        out+=ch\n",
    "print(out[::-1])        "
   ]
  },
  {
   "cell_type": "code",
   "execution_count": 1,
   "id": "3b673971",
   "metadata": {},
   "outputs": [
    {
     "name": "stdout",
     "output_type": "stream",
     "text": [
      "12345678\n",
      "4163\n"
     ]
    }
   ],
   "source": [
    "# Q3.\n",
    "string=input()\n",
    "\n",
    "out=\"\"\n",
    "\n",
    "for i in range(1,len(string),2):\n",
    "    out+=str(int(string[i])**2)\n",
    "\n",
    "print(out[:4])    \n"
   ]
  },
  {
   "cell_type": "code",
   "execution_count": 3,
   "id": "3158bdc2",
   "metadata": {},
   "outputs": [
    {
     "name": "stdout",
     "output_type": "stream",
     "text": [
      "qwer12356\n",
      "65312\n"
     ]
    }
   ],
   "source": [
    "# Q.4\n",
    "\n",
    "import re\n",
    "string=input()\n",
    "digits=list(set(re.findall('\\d',string)))\n",
    "digits.sort(reverse=True)\n",
    "\n",
    "number=int(\"\".join(digits))\n",
    "\n",
    "if number%2==0:\n",
    "    print(number)\n",
    "\n",
    "else:\n",
    "    for i in range(len(digits)-1,0,-1):\n",
    "        \n",
    "        if int(digits[i])%2==0:\n",
    "            a=digits[i]\n",
    "            digits.remove(a)\n",
    "            digits.insert(len(digits),a)\n",
    "            even=int(\"\".join(digits))\n",
    "            print(even)\n",
    "            break\n",
    "            \n",
    "    else:\n",
    "        print(-1)\n",
    "        \n",
    "        \n",
    "        \n"
   ]
  },
  {
   "cell_type": "code",
   "execution_count": 8,
   "id": "55971993",
   "metadata": {},
   "outputs": [
    {
     "name": "stdout",
     "output_type": "stream",
     "text": [
      "{([])}[]\n",
      "0\n"
     ]
    }
   ],
   "source": [
    "# Q6\n",
    "\n",
    "def check_brackets(input_str):\n",
    "    stack = []\n",
    "    for i, char in enumerate(input_str):\n",
    "        if char in ('(', '{', '['):\n",
    "            stack.append(char)\n",
    "        elif char in (')', '}', ']'):\n",
    "            if not stack:\n",
    "                return i + 1\n",
    "            if char == ')' and stack[-1] != '(':\n",
    "                return i + 1\n",
    "            if char == '}' and stack[-1] != '{':\n",
    "                return i + 1\n",
    "            if char == ']' and stack[-1] != '[':\n",
    "                return i + 1\n",
    "            stack.pop()\n",
    "    if stack:\n",
    "        return len(input_str) + 1\n",
    "    return 0\n",
    "\n",
    "input_str = input()\n",
    "output = check_brackets(input_str)\n",
    "print(output)\n"
   ]
  },
  {
   "cell_type": "code",
   "execution_count": 25,
   "id": "8a312808",
   "metadata": {},
   "outputs": [],
   "source": [
    "#Anchal:23581,Aman:57568,Sonakshi:34848,Ria:14585"
   ]
  },
  {
   "cell_type": "code",
   "execution_count": 27,
   "id": "30ca5c3a",
   "metadata": {},
   "outputs": [
    {
     "name": "stdout",
     "output_type": "stream",
     "text": [
      "aXiR\n"
     ]
    }
   ],
   "source": [
    "# Q7 \n",
    "def generate_password(input_str):\n",
    "    emp_list = input_str.split(',')\n",
    "    password = ''\n",
    "    for emp in emp_list:\n",
    "        emp_details = emp.split(':')\n",
    "        name = emp_details[0]\n",
    "        number = int(emp_details[1])\n",
    "        max_digit = max([int(i) for i in str(number) if int(i) <= len(name)], default=0)\n",
    "        if max_digit == 0:\n",
    "            password += 'X'\n",
    "        else:\n",
    "            password += name[max_digit - 1]\n",
    "    return password\n",
    "\n",
    "input_str = \"Anchal:23581,Aman:57568,Sonakshi:34848,Ria:14585\"\n",
    "print(generate_password(input_str))\n"
   ]
  },
  {
   "cell_type": "code",
   "execution_count": 31,
   "id": "6d49d1ec",
   "metadata": {},
   "outputs": [
    {
     "name": "stdout",
     "output_type": "stream",
     "text": [
      "Anchal:23581,Aman:57568,Sonakshi:34848,Ria:14585\n",
      "aXiR\n"
     ]
    }
   ],
   "source": [
    "input_str=input()\n",
    "password=\"\"\n",
    "string=input_str.split(\",\")\n",
    "\n",
    "for i in string:\n",
    "    details=i.split(\":\")\n",
    "    name=details[0]\n",
    "    num=int(details[1])\n",
    "    \n",
    "    maxx=max([int(i) for i in str(num) if int(i)<=len(name)],default=0)\n",
    "    \n",
    "    if maxx==0:\n",
    "        password+='X'\n",
    "    else:\n",
    "        password+=name[maxx-1]\n",
    "print(password)    "
   ]
  },
  {
   "cell_type": "code",
   "execution_count": 51,
   "id": "d41db717",
   "metadata": {},
   "outputs": [
    {
     "name": "stdout",
     "output_type": "stream",
     "text": [
      "bcdgfhg:127836\n",
      "cdgfhgb"
     ]
    }
   ],
   "source": [
    "#Q8\n",
    "\n",
    "inp_str=input().split(\",\")\n",
    "\n",
    "for i in inp_str:\n",
    "    string,num=i.split(\":\")\n",
    "    sum=0\n",
    "    for digit in num:\n",
    "        sum+=(int(digit)**2)\n",
    "        \n",
    "    if sum%2==0:\n",
    "        s=string[len(string)-2:len(string)]\n",
    "        print(s+string[0:len(string)-2],end=\"\")\n",
    "    \n",
    "    else:\n",
    "        s=string[0]\n",
    "        print(string[1:len(string)]+s,end=\"\")\n",
    "    "
   ]
  },
  {
   "cell_type": "code",
   "execution_count": 46,
   "id": "b660d4f4",
   "metadata": {},
   "outputs": [],
   "source": [
    "#bcdgfhf:127836"
   ]
  },
  {
   "cell_type": "code",
   "execution_count": 50,
   "id": "4c582bd3",
   "metadata": {},
   "outputs": [
    {
     "name": "stdout",
     "output_type": "stream",
     "text": [
      "abcd:1234\n",
      "cdab"
     ]
    }
   ],
   "source": [
    "str=input().split(\",\")\n",
    "\n",
    "for i in str:\n",
    "    name,digit=i.split(\":\")\n",
    "    \n",
    "    summ=0\n",
    "    \n",
    "    for i in digit:\n",
    "        sum+=int(digit)**2\n",
    "    \n",
    "    if sum%2==0:\n",
    "        s=name[len(name)-2:len(name)]\n",
    "        print(s+name[0:len(name)-2],end=\"\")\n",
    "        \n",
    "    else:\n",
    "        s=name[0]\n",
    "        print(name[1:]+s,end=\"\")\n",
    "        "
   ]
  },
  {
   "cell_type": "code",
   "execution_count": 10,
   "id": "ec5643ad",
   "metadata": {},
   "outputs": [
    {
     "name": "stdout",
     "output_type": "stream",
     "text": [
      "abcdabc\n",
      "3\n"
     ]
    }
   ],
   "source": [
    "# length of longest prefix also suffix:\n",
    "\n",
    "string=input()\n",
    "\n",
    "mid=len(string)//2\n",
    "\n",
    "for i in range(mid,0,-1):\n",
    "    pre=string[0:mid]\n",
    "    suff=string[len(string)-i:len(string)]\n",
    "    \n",
    "    if(pre==suff):\n",
    "        print(len(pre))\n",
    "        break"
   ]
  },
  {
   "cell_type": "code",
   "execution_count": 3,
   "id": "36286079",
   "metadata": {},
   "outputs": [
    {
     "name": "stdout",
     "output_type": "stream",
     "text": [
      "3,2,5,8,9,10,11\n",
      "4\n"
     ]
    }
   ],
   "source": [
    "# fibonacci sequence length:\n",
    "\n",
    "input_str=list(map(int,input().split(',')))\n",
    "maxx=max(input_str)\n",
    "input_str.sort()\n",
    "\n",
    "fib_list=[]\n",
    "\n",
    "num1,num2=0,1\n",
    "\n",
    "fib_list.append(0)\n",
    "fib_list.append(1)\n",
    "\n",
    "while(num2<maxx):\n",
    "    summ=num1+num2\n",
    "    num1=num2\n",
    "    num2=summ\n",
    "    \n",
    "    fib_list.append(num2)\n",
    "    \n",
    "fib_seq=[]\n",
    "\n",
    "for i in range(len(input_str)):\n",
    "    \n",
    "    if input_str[i] in fib_list:\n",
    "        fib_seq.append(input_str[i])\n",
    "        \n",
    "if len(fib_seq)>2:\n",
    "    print(len(fib_seq))\n",
    "else:\n",
    "    print(-1)"
   ]
  },
  {
   "cell_type": "code",
   "execution_count": 6,
   "id": "98ce3005",
   "metadata": {},
   "outputs": [
    {
     "name": "stdout",
     "output_type": "stream",
     "text": [
      "A5c67r21i@p#8t\n",
      "652781"
     ]
    }
   ],
   "source": [
    "#alternate filling of alphabets depending on even/odd numbero f special character:\n",
    "\n",
    "\n",
    "input_str=input()\n",
    "even=[]\n",
    "odd=[]\n",
    "sp_chr=0\n",
    "\n",
    "for i in input_str:\n",
    "    if not(i.isalnum()):\n",
    "        sp_chr+=1\n",
    "        \n",
    "    \n",
    "    if i.isdigit():\n",
    "        \n",
    "        if int(i)%2==0:\n",
    "            even.append(i)\n",
    "        else:\n",
    "            odd.append(i)\n",
    "            \n",
    "if sp_chr%2 !=0:\n",
    "    odd,even=even,odd\n",
    "        \n",
    "        \n",
    "for i in range(max(len(even),len(odd))):\n",
    "    if i<len(even):\n",
    "        print(even[i],end=\"\")\n",
    "    if i<len(odd):\n",
    "        print(odd[i],end=\"\")"
   ]
  },
  {
   "cell_type": "code",
   "execution_count": null,
   "id": "41abe5bd",
   "metadata": {},
   "outputs": [],
   "source": []
  }
 ],
 "metadata": {
  "kernelspec": {
   "display_name": "Python 3 (ipykernel)",
   "language": "python",
   "name": "python3"
  },
  "language_info": {
   "codemirror_mode": {
    "name": "ipython",
    "version": 3
   },
   "file_extension": ".py",
   "mimetype": "text/x-python",
   "name": "python",
   "nbconvert_exporter": "python",
   "pygments_lexer": "ipython3",
   "version": "3.9.7"
  }
 },
 "nbformat": 4,
 "nbformat_minor": 5
}
